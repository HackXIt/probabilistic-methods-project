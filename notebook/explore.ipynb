{
 "cells": [
  {
   "cell_type": "markdown",
   "metadata": {},
   "source": [
    "# Data import\n",
    "\n",
    "The data comes from: https://archive.ics.uci.edu/dataset/367/dota2+games+results\n",
    "\n"
   ]
  },
  {
   "cell_type": "code",
   "execution_count": null,
   "metadata": {},
   "outputs": [],
   "source": [
    "# Import data from UCI repository\n",
    "\n",
    "from ucimlrepo import fetch_ucirepo \n",
    "  \n",
    "# fetch dataset \n",
    "dota2_games_results = fetch_ucirepo(id=367) \n",
    "  \n",
    "# data (as pandas dataframes) \n",
    "X = dota2_games_results.data.features \n",
    "y = dota2_games_results.data.targets \n",
    "  \n",
    "# metadata \n",
    "print(dota2_games_results.metadata) \n",
    "  \n",
    "# variable information \n",
    "print(dota2_games_results.variables) "
   ]
  },
  {
   "cell_type": "markdown",
   "metadata": {},
   "source": [
    "# Alternatively load data from folder\n",
    "\n",
    "The data was downloaded from the link above and saved in the folder `data`. The data is in the form of a `.csv` file. The data is loaded using the `pandas` library."
   ]
  },
  {
   "cell_type": "code",
   "execution_count": null,
   "metadata": {},
   "outputs": [],
   "source": [
    "# Load the data into a pandas dataframe\n",
    "\n",
    "import pandas as pd\n",
    "\n",
    "train = pd.from_csv(\"../data/dota2Train.csv\")\n",
    "test = pd.from_csv(\"../data/dota2Test.csv\")"
   ]
  }
 ],
 "metadata": {
  "kernelspec": {
   "display_name": ".venv",
   "language": "python",
   "name": "python3"
  },
  "language_info": {
   "name": "python",
   "version": "3.12.0"
  }
 },
 "nbformat": 4,
 "nbformat_minor": 2
}
